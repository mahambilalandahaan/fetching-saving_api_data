{
  "nbformat": 4,
  "nbformat_minor": 0,
  "metadata": {
    "colab": {
      "provenance": []
    },
    "kernelspec": {
      "name": "python3",
      "display_name": "Python 3"
    },
    "language_info": {
      "name": "python"
    }
  },
  "cells": [
    {
      "cell_type": "code",
      "execution_count": 21,
      "metadata": {
        "colab": {
          "base_uri": "https://localhost:8080/"
        },
        "id": "yxrCaj7uLRc-",
        "outputId": "3bf64da2-c94d-43b1-aeed-80cfc57ec76d"
      },
      "outputs": [
        {
          "output_type": "stream",
          "name": "stdout",
          "text": [
            "🛒 Fetching comments for post-id : 1\n",
            "📈 Retrieved 5 records for post-id :1\n",
            "🛒 Fetching comments for post-id : 2\n",
            "📈 Retrieved 5 records for post-id :2\n",
            "🛒 Fetching comments for post-id : 3\n",
            "📈 Retrieved 5 records for post-id :3\n",
            "🛒 Fetching comments for post-id : 4\n",
            "📈 Retrieved 5 records for post-id :4\n",
            "🛒 Fetching comments for post-id : 5\n",
            "📈 Retrieved 5 records for post-id :5\n",
            "\n",
            "📊 combined dataframe created succesfully!👏\n",
            "📉Data saved as all_comments.csv and all_comments.json📈\n",
            "   postId  id                                               name  \\\n",
            "0       1   1                       id labore ex et quam laborum   \n",
            "1       1   2          quo vero reiciendis velit similique earum   \n",
            "2       1   3                      odio adipisci rerum aut animi   \n",
            "3       1   4                                     alias odio sit   \n",
            "4       1   5              vero eaque aliquid doloribus et culpa   \n",
            "5       2   6  et fugit eligendi deleniti quidem qui sint nih...   \n",
            "6       2   7  repellat consequatur praesentium vel minus mol...   \n",
            "7       2   8                                   et omnis dolorem   \n",
            "8       2   9                              provident id voluptas   \n",
            "9       2  10          eaque et deleniti atque tenetur ut quo ut   \n",
            "\n",
            "                          email  \n",
            "0            Eliseo@gardner.biz  \n",
            "1        Jayne_Kuhic@sydney.com  \n",
            "2           Nikita@garfield.biz  \n",
            "3                 Lew@alysha.tv  \n",
            "4             Hayden@althea.biz  \n",
            "5      Presley.Mueller@myrl.com  \n",
            "6                 Dallas@ole.me  \n",
            "7       Mallory_Kunze@marie.org  \n",
            "8         Meghan_Littel@rene.us  \n",
            "9  Carmen_Keeling@caroline.name  \n"
          ]
        }
      ],
      "source": [
        "###FETCHING AND SAVING API DATA\n",
        "import requests\n",
        "import pandas as pd\n",
        "#🌍Base URL (main endpoint)\n",
        "url=\"https://jsonplaceholder.typicode.com/comments\"\n",
        "\n",
        "#📝 Empty list to store all comments\n",
        "all_comments=[]\n",
        "##FETCHING DATA\n",
        "#💫 Loop through multiple post ids\n",
        "for post_id in range(1,6):\n",
        "  print(f\"🛒 Fetching comments for post-id : {post_id}\")\n",
        "  params={'postId':post_id}\n",
        "  response=requests.get(url,params=params)\n",
        "  # ✔ Check if request succesful\n",
        "  if response.status_code == 200:\n",
        "    data=response.json()\n",
        "    all_comments.extend(data) # requored data copied from data to all_comments\n",
        "    print(f\"📈 Retrieved {len(data)} records for post-id :{post_id}\")\n",
        "  else:\n",
        "    print(f\"⚠️ Failed for post-id :{post_id} - Status : {response.status_code}\")\n",
        " #SAVING DATA\n",
        "df = pd.DataFrame(all_comments)\n",
        "print(f\"\\n📊 combined dataframe created succesfully!👏\")\n",
        "df.head()\n",
        "#save results\n",
        "df.to_csv('all_comments.csv', index=False)\n",
        "df.to_json('all_comments.json',orient='records',indent=4)\n",
        "print('📉Data saved as all_comments.csv and all_comments.json📈')\n",
        "#📝Print a clean summary\n",
        "print(df[['postId', 'id', 'name','email']].head(10))\n",
        "\n"
      ]
    },
    {
      "cell_type": "code",
      "source": [],
      "metadata": {
        "id": "WJ4Ux4OaSkCR"
      },
      "execution_count": null,
      "outputs": []
    }
  ]
}